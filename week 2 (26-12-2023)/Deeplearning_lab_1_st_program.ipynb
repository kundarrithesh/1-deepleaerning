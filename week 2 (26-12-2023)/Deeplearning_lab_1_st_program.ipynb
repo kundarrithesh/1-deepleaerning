{
  "nbformat": 4,
  "nbformat_minor": 0,
  "metadata": {
    "colab": {
      "provenance": []
    },
    "kernelspec": {
      "name": "python3",
      "display_name": "Python 3"
    },
    "language_info": {
      "name": "python"
    }
  },
  "cells": [
    {
      "cell_type": "markdown",
      "source": [
        "1a (random generation of weights)"
      ],
      "metadata": {
        "id": "Qh7__GvfVNCY"
      }
    },
    {
      "cell_type": "code",
      "source": [
        "import numpy as np\n",
        "from scipy.special import expit as activation_function\n",
        "from scipy.stats import truncnorm\n"
      ],
      "metadata": {
        "id": "58gqpyC2VO_w"
      },
      "execution_count": 15,
      "outputs": []
    },
    {
      "cell_type": "code",
      "source": [
        "def truncated_normal(mean=0,sd=1,low=0,upp=10):\n",
        "   return truncnorm( (low-mean)/sd,(upp-mean)/sd,loc=mean,scale=sd)\n",
        "\n",
        "class Nnetwork:\n",
        "  def __init__(self,no_of_in_nodes,no_of_out_nodes,no_of_hidden_nodes,learning_rate):\n",
        "    self.no_of_in_nodes = no_of_in_nodes\n",
        "    self.no_of_out_nodes = no_of_out_nodes\n",
        "    self.no_of_hidden_nodes = no_of_hidden_nodes\n",
        "    self.learning_rate = learning_rate\n",
        "    self.create_weight_matrices()\n",
        "\n",
        "  def create_weight_matrices(self):\n",
        "    rad = 1 / np.sqrt(self.no_of_in_nodes)\n",
        "    X = truncated_normal(mean=0, sd=1, low=-rad, upp=rad)\n",
        "    self.weights_in_hidden = X.rvs((self.no_of_hidden_nodes,self.no_of_in_nodes))\n",
        "    rad = 1 / np.sqrt(self.no_of_hidden_nodes)\n",
        "    X = truncated_normal(mean=0, sd=1, low=-rad, upp=rad)\n",
        "    self.weights_hidden_out = X.rvs((self.no_of_out_nodes,self.no_of_hidden_nodes))\n",
        "\n",
        "\n",
        "\n",
        "  def train(self, input_vector, target_vector):\n",
        "    pass\n",
        "\n",
        "  def run(self, input_vector):\n",
        "\n",
        "    input_vector = np.array(input_vector, ndmin=2).T\n",
        "    input_hidden = activation_function(self.weights_in_hidden @ input_vector)\n",
        "    output_vector = activation_function(self.weights_hidden_out @ input_hidden)\n",
        "    return output_vector\n",
        ""
      ],
      "metadata": {
        "id": "7spmAGwCXQKi"
      },
      "execution_count": 41,
      "outputs": []
    },
    {
      "cell_type": "code",
      "source": [
        "simple_network = Nnetwork(no_of_in_nodes=2,no_of_out_nodes=2,no_of_hidden_nodes=4,learning_rate=0.6)\n",
        "simple_network.run([(3, 4)])"
      ],
      "metadata": {
        "colab": {
          "base_uri": "https://localhost:8080/"
        },
        "id": "dN0Bi1cOdh1n",
        "outputId": "e78d4d2c-31b1-48e7-a062-786b24eaea2c"
      },
      "execution_count": 40,
      "outputs": [
        {
          "output_type": "execute_result",
          "data": {
            "text/plain": [
              "array([[0.40502924],\n",
              "       [0.44677903]])"
            ]
          },
          "metadata": {},
          "execution_count": 40
        }
      ]
    },
    {
      "cell_type": "markdown",
      "source": [
        "1b (keras)"
      ],
      "metadata": {
        "id": "vvJAak-Ue2Vo"
      }
    },
    {
      "cell_type": "code",
      "source": [
        "from keras.models import Sequential\n",
        "from keras.layers import Dense,Activation\n",
        "import numpy as np\n",
        "\n",
        "x = np.array([[0,0],[0,1],[1,0],[1,1]])\n",
        "y = np.array([[0],[1],[1],[0]])\n",
        "model=Sequential()\n",
        "model.add(Dense(2,input_shape=(2,)))\n",
        "model.add(Activation('sigmoid'))\n",
        "model.add(Dense(1))\n",
        "model.add(Activation('sigmoid'))\n",
        "model.compile(loss='mean_squared_error',optimizer='sgd',metrics=['accuracy'])\n",
        "model.summary()"
      ],
      "metadata": {
        "colab": {
          "base_uri": "https://localhost:8080/"
        },
        "id": "95BWCmXLglhP",
        "outputId": "3e51cf2e-5754-459b-dc40-897693a26e7d"
      },
      "execution_count": 45,
      "outputs": [
        {
          "output_type": "stream",
          "name": "stdout",
          "text": [
            "Model: \"sequential\"\n",
            "_________________________________________________________________\n",
            " Layer (type)                Output Shape              Param #   \n",
            "=================================================================\n",
            " dense (Dense)               (None, 2)                 6         \n",
            "                                                                 \n",
            " activation (Activation)     (None, 2)                 0         \n",
            "                                                                 \n",
            " dense_1 (Dense)             (None, 1)                 3         \n",
            "                                                                 \n",
            " activation_1 (Activation)   (None, 1)                 0         \n",
            "                                                                 \n",
            "=================================================================\n",
            "Total params: 9 (36.00 Byte)\n",
            "Trainable params: 9 (36.00 Byte)\n",
            "Non-trainable params: 0 (0.00 Byte)\n",
            "_________________________________________________________________\n"
          ]
        }
      ]
    },
    {
      "cell_type": "markdown",
      "source": [
        "1c pythorch\n"
      ],
      "metadata": {
        "id": "S3J_E1BRnPwQ"
      }
    },
    {
      "cell_type": "code",
      "source": [
        "import torch\n",
        "import torch.nn as nn\n",
        "import torch.optim as optim\n",
        "\n",
        "# Set random seed for reproducibility\n",
        "torch.manual_seed(42)\n",
        "\n",
        "# Generate synthetic data\n",
        "X = torch.rand((100, 5))  # 100 samples, 5 features\n",
        "y = (X.sum(dim=1) > 2.5).float().view(-1, 1)  # Binary classification task\n",
        "\n",
        "# Define a simple neural network model\n",
        "class SimpleNN(nn.Module):\n",
        "    def __init__(self):\n",
        "        super(SimpleNN, self).__init__()\n",
        "        self.fc1 = nn.Linear(5, 10)  # Input size: 5, Output size: 10\n",
        "        self.relu = nn.ReLU()\n",
        "        self.fc2 = nn.Linear(10, 1)  # Output size: 1 (binary classification)\n",
        "\n",
        "    def forward(self, x):\n",
        "        x = self.fc1(x)\n",
        "        x = self.relu(x)\n",
        "        x = self.fc2(x)\n",
        "        return x\n",
        "\n",
        "# Initialize the model, loss function, and optimizer\n",
        "model = SimpleNN()\n",
        "criterion = nn.BCEWithLogitsLoss()  # Binary Cross Entropy Loss\n",
        "optimizer = optim.Adam(model.parameters(), lr=0.01)\n",
        "\n",
        "# Training loop\n",
        "num_epochs = 1000\n",
        "\n",
        "for epoch in range(num_epochs):\n",
        "    model.train()\n",
        "    optimizer.zero_grad()\n",
        "\n",
        "    # Forward pass\n",
        "    outputs = model(X)\n",
        "\n",
        "    # Compute loss\n",
        "    loss = criterion(outputs, y)\n",
        "\n",
        "    # Backward pass and optimization\n",
        "    loss.backward()\n",
        "    optimizer.step()\n",
        "\n",
        "    if (epoch + 1) % 100 == 0:\n",
        "        print(f'Epoch {epoch + 1}/{num_epochs}, Loss: {loss.item()}')\n",
        "\n",
        "# Make predictions on new data\n",
        "new_data = torch.rand((5, 5))  # New data with 5 samples, 5 features\n",
        "model.eval()\n",
        "with torch.no_grad():\n",
        "    predictions = (model(new_data) > 0).float()\n",
        "\n",
        "print(\"Predictions:\")\n",
        "print(predictions)"
      ],
      "metadata": {
        "colab": {
          "base_uri": "https://localhost:8080/"
        },
        "id": "Mbha2qUHnSbO",
        "outputId": "6acf56f9-5b3f-41df-8840-7ff18161207d"
      },
      "execution_count": 46,
      "outputs": [
        {
          "output_type": "stream",
          "name": "stdout",
          "text": [
            "Epoch 100/1000, Loss: 0.2826191484928131\n",
            "Epoch 200/1000, Loss: 0.13494987785816193\n",
            "Epoch 300/1000, Loss: 0.09118147194385529\n",
            "Epoch 400/1000, Loss: 0.06671896576881409\n",
            "Epoch 500/1000, Loss: 0.047388575971126556\n",
            "Epoch 600/1000, Loss: 0.03587041795253754\n",
            "Epoch 700/1000, Loss: 0.02806200087070465\n",
            "Epoch 800/1000, Loss: 0.022526385262608528\n",
            "Epoch 900/1000, Loss: 0.0184347964823246\n",
            "Epoch 1000/1000, Loss: 0.015313169918954372\n",
            "Predictions:\n",
            "tensor([[0.],\n",
            "        [0.],\n",
            "        [1.],\n",
            "        [1.],\n",
            "        [0.]])\n"
          ]
        }
      ]
    }
  ]
}